{
 "cells": [
  {
   "cell_type": "markdown",
   "id": "d3171f52",
   "metadata": {
    "papermill": {
     "duration": 0.012017,
     "end_time": "2024-10-05T11:38:17.180237",
     "exception": false,
     "start_time": "2024-10-05T11:38:17.168220",
     "status": "completed"
    },
    "tags": []
   },
   "source": [
    "# Load Required Libraries"
   ]
  },
  {
   "cell_type": "code",
   "execution_count": 1,
   "id": "9758d9c0",
   "metadata": {
    "execution": {
     "iopub.execute_input": "2024-10-05T11:38:17.205628Z",
     "iopub.status.busy": "2024-10-05T11:38:17.205044Z",
     "iopub.status.idle": "2024-10-05T11:38:18.303885Z",
     "shell.execute_reply": "2024-10-05T11:38:18.302324Z"
    },
    "papermill": {
     "duration": 1.115669,
     "end_time": "2024-10-05T11:38:18.307415",
     "exception": false,
     "start_time": "2024-10-05T11:38:17.191746",
     "status": "completed"
    },
    "tags": []
   },
   "outputs": [],
   "source": [
    "import pandas as pd\n",
    "import warnings"
   ]
  },
  {
   "cell_type": "code",
   "execution_count": 2,
   "id": "c3cca347",
   "metadata": {
    "execution": {
     "iopub.execute_input": "2024-10-05T11:38:18.333051Z",
     "iopub.status.busy": "2024-10-05T11:38:18.332290Z",
     "iopub.status.idle": "2024-10-05T11:38:18.338706Z",
     "shell.execute_reply": "2024-10-05T11:38:18.337377Z"
    },
    "papermill": {
     "duration": 0.022481,
     "end_time": "2024-10-05T11:38:18.341580",
     "exception": false,
     "start_time": "2024-10-05T11:38:18.319099",
     "status": "completed"
    },
    "tags": []
   },
   "outputs": [],
   "source": [
    "warnings.filterwarnings(\"ignore\")"
   ]
  },
  {
   "cell_type": "markdown",
   "id": "a34b7641",
   "metadata": {
    "papermill": {
     "duration": 0.010853,
     "end_time": "2024-10-05T11:38:18.364743",
     "exception": false,
     "start_time": "2024-10-05T11:38:18.353890",
     "status": "completed"
    },
    "tags": []
   },
   "source": [
    "# Load Rowdata/Dataset"
   ]
  },
  {
   "cell_type": "code",
   "execution_count": 3,
   "id": "309794d3",
   "metadata": {
    "execution": {
     "iopub.execute_input": "2024-10-05T11:38:18.391545Z",
     "iopub.status.busy": "2024-10-05T11:38:18.390346Z",
     "iopub.status.idle": "2024-10-05T11:38:18.445275Z",
     "shell.execute_reply": "2024-10-05T11:38:18.443877Z"
    },
    "papermill": {
     "duration": 0.071505,
     "end_time": "2024-10-05T11:38:18.448788",
     "exception": false,
     "start_time": "2024-10-05T11:38:18.377283",
     "status": "completed"
    },
    "tags": []
   },
   "outputs": [],
   "source": [
    "data = pd.read_csv(filepath_or_buffer=r\"/kaggle/input/udemy-courses-anallysis/udemy_courses_original.csv\",low_memory=False)"
   ]
  },
  {
   "cell_type": "markdown",
   "id": "ad0df1ca",
   "metadata": {
    "papermill": {
     "duration": 0.010856,
     "end_time": "2024-10-05T11:38:18.471121",
     "exception": false,
     "start_time": "2024-10-05T11:38:18.460265",
     "status": "completed"
    },
    "tags": []
   },
   "source": [
    "# Explore/show first 5 rows "
   ]
  },
  {
   "cell_type": "code",
   "execution_count": 4,
   "id": "b4dbcbb9",
   "metadata": {
    "execution": {
     "iopub.execute_input": "2024-10-05T11:38:18.495901Z",
     "iopub.status.busy": "2024-10-05T11:38:18.495366Z",
     "iopub.status.idle": "2024-10-05T11:38:18.527262Z",
     "shell.execute_reply": "2024-10-05T11:38:18.525896Z"
    },
    "papermill": {
     "duration": 0.047857,
     "end_time": "2024-10-05T11:38:18.530286",
     "exception": false,
     "start_time": "2024-10-05T11:38:18.482429",
     "status": "completed"
    },
    "tags": []
   },
   "outputs": [
    {
     "data": {
      "text/html": [
       "<div>\n",
       "<style scoped>\n",
       "    .dataframe tbody tr th:only-of-type {\n",
       "        vertical-align: middle;\n",
       "    }\n",
       "\n",
       "    .dataframe tbody tr th {\n",
       "        vertical-align: top;\n",
       "    }\n",
       "\n",
       "    .dataframe thead th {\n",
       "        text-align: right;\n",
       "    }\n",
       "</style>\n",
       "<table border=\"1\" class=\"dataframe\">\n",
       "  <thead>\n",
       "    <tr style=\"text-align: right;\">\n",
       "      <th></th>\n",
       "      <th>course_id</th>\n",
       "      <th>course_title</th>\n",
       "      <th>url</th>\n",
       "      <th>is_paid</th>\n",
       "      <th>price</th>\n",
       "      <th>num_subscribers</th>\n",
       "      <th>num_reviews</th>\n",
       "      <th>num_lectures</th>\n",
       "      <th>level</th>\n",
       "      <th>content_duration</th>\n",
       "      <th>published_timestamp</th>\n",
       "      <th>subject</th>\n",
       "    </tr>\n",
       "  </thead>\n",
       "  <tbody>\n",
       "    <tr>\n",
       "      <th>0</th>\n",
       "      <td>1070968</td>\n",
       "      <td>Ultimate Investment Banking Course</td>\n",
       "      <td>https://www.udemy.com/ultimate-investment-bank...</td>\n",
       "      <td>True</td>\n",
       "      <td>200</td>\n",
       "      <td>2147</td>\n",
       "      <td>23</td>\n",
       "      <td>51</td>\n",
       "      <td>All Levels</td>\n",
       "      <td>1.5</td>\n",
       "      <td>2017-01-18T20:58:58Z</td>\n",
       "      <td>Business Finance</td>\n",
       "    </tr>\n",
       "    <tr>\n",
       "      <th>1</th>\n",
       "      <td>1113822</td>\n",
       "      <td>Complete GST Course &amp; Certification - Grow You...</td>\n",
       "      <td>https://www.udemy.com/goods-and-services-tax/</td>\n",
       "      <td>True</td>\n",
       "      <td>75</td>\n",
       "      <td>2792</td>\n",
       "      <td>923</td>\n",
       "      <td>274</td>\n",
       "      <td>All Levels</td>\n",
       "      <td>39.0</td>\n",
       "      <td>2017-03-09T16:34:20Z</td>\n",
       "      <td>Business Finance</td>\n",
       "    </tr>\n",
       "    <tr>\n",
       "      <th>2</th>\n",
       "      <td>1006314</td>\n",
       "      <td>Financial Modeling for Business Analysts and C...</td>\n",
       "      <td>https://www.udemy.com/financial-modeling-for-b...</td>\n",
       "      <td>True</td>\n",
       "      <td>45</td>\n",
       "      <td>2174</td>\n",
       "      <td>74</td>\n",
       "      <td>51</td>\n",
       "      <td>Intermediate Level</td>\n",
       "      <td>2.5</td>\n",
       "      <td>2016-12-19T19:26:30Z</td>\n",
       "      <td>Business Finance</td>\n",
       "    </tr>\n",
       "    <tr>\n",
       "      <th>3</th>\n",
       "      <td>1210588</td>\n",
       "      <td>Beginner to Pro - Financial Analysis in Excel ...</td>\n",
       "      <td>https://www.udemy.com/complete-excel-finance-c...</td>\n",
       "      <td>True</td>\n",
       "      <td>95</td>\n",
       "      <td>2451</td>\n",
       "      <td>11</td>\n",
       "      <td>36</td>\n",
       "      <td>All Levels</td>\n",
       "      <td>3.0</td>\n",
       "      <td>2017-05-30T20:07:24Z</td>\n",
       "      <td>Business Finance</td>\n",
       "    </tr>\n",
       "    <tr>\n",
       "      <th>4</th>\n",
       "      <td>1011058</td>\n",
       "      <td>How To Maximize Your Profits Trading Options</td>\n",
       "      <td>https://www.udemy.com/how-to-maximize-your-pro...</td>\n",
       "      <td>True</td>\n",
       "      <td>200</td>\n",
       "      <td>1276</td>\n",
       "      <td>45</td>\n",
       "      <td>26</td>\n",
       "      <td>Intermediate Level</td>\n",
       "      <td>2.0</td>\n",
       "      <td>2016-12-13T14:57:18Z</td>\n",
       "      <td>Business Finance</td>\n",
       "    </tr>\n",
       "  </tbody>\n",
       "</table>\n",
       "</div>"
      ],
      "text/plain": [
       "   course_id                                       course_title  \\\n",
       "0    1070968                 Ultimate Investment Banking Course   \n",
       "1    1113822  Complete GST Course & Certification - Grow You...   \n",
       "2    1006314  Financial Modeling for Business Analysts and C...   \n",
       "3    1210588  Beginner to Pro - Financial Analysis in Excel ...   \n",
       "4    1011058       How To Maximize Your Profits Trading Options   \n",
       "\n",
       "                                                 url  is_paid  price  \\\n",
       "0  https://www.udemy.com/ultimate-investment-bank...     True    200   \n",
       "1      https://www.udemy.com/goods-and-services-tax/     True     75   \n",
       "2  https://www.udemy.com/financial-modeling-for-b...     True     45   \n",
       "3  https://www.udemy.com/complete-excel-finance-c...     True     95   \n",
       "4  https://www.udemy.com/how-to-maximize-your-pro...     True    200   \n",
       "\n",
       "   num_subscribers  num_reviews  num_lectures               level  \\\n",
       "0             2147           23            51          All Levels   \n",
       "1             2792          923           274          All Levels   \n",
       "2             2174           74            51  Intermediate Level   \n",
       "3             2451           11            36          All Levels   \n",
       "4             1276           45            26  Intermediate Level   \n",
       "\n",
       "   content_duration   published_timestamp           subject  \n",
       "0               1.5  2017-01-18T20:58:58Z  Business Finance  \n",
       "1              39.0  2017-03-09T16:34:20Z  Business Finance  \n",
       "2               2.5  2016-12-19T19:26:30Z  Business Finance  \n",
       "3               3.0  2017-05-30T20:07:24Z  Business Finance  \n",
       "4               2.0  2016-12-13T14:57:18Z  Business Finance  "
      ]
     },
     "execution_count": 4,
     "metadata": {},
     "output_type": "execute_result"
    }
   ],
   "source": [
    "data.head(n=5)"
   ]
  },
  {
   "cell_type": "markdown",
   "id": "c7a90136",
   "metadata": {
    "papermill": {
     "duration": 0.011599,
     "end_time": "2024-10-05T11:38:18.553717",
     "exception": false,
     "start_time": "2024-10-05T11:38:18.542118",
     "status": "completed"
    },
    "tags": []
   },
   "source": [
    "# Explore/show last 5 rows "
   ]
  },
  {
   "cell_type": "code",
   "execution_count": 5,
   "id": "854b510f",
   "metadata": {
    "execution": {
     "iopub.execute_input": "2024-10-05T11:38:18.580393Z",
     "iopub.status.busy": "2024-10-05T11:38:18.579074Z",
     "iopub.status.idle": "2024-10-05T11:38:18.599899Z",
     "shell.execute_reply": "2024-10-05T11:38:18.598567Z"
    },
    "papermill": {
     "duration": 0.037183,
     "end_time": "2024-10-05T11:38:18.602597",
     "exception": false,
     "start_time": "2024-10-05T11:38:18.565414",
     "status": "completed"
    },
    "tags": []
   },
   "outputs": [
    {
     "data": {
      "text/html": [
       "<div>\n",
       "<style scoped>\n",
       "    .dataframe tbody tr th:only-of-type {\n",
       "        vertical-align: middle;\n",
       "    }\n",
       "\n",
       "    .dataframe tbody tr th {\n",
       "        vertical-align: top;\n",
       "    }\n",
       "\n",
       "    .dataframe thead th {\n",
       "        text-align: right;\n",
       "    }\n",
       "</style>\n",
       "<table border=\"1\" class=\"dataframe\">\n",
       "  <thead>\n",
       "    <tr style=\"text-align: right;\">\n",
       "      <th></th>\n",
       "      <th>course_id</th>\n",
       "      <th>course_title</th>\n",
       "      <th>url</th>\n",
       "      <th>is_paid</th>\n",
       "      <th>price</th>\n",
       "      <th>num_subscribers</th>\n",
       "      <th>num_reviews</th>\n",
       "      <th>num_lectures</th>\n",
       "      <th>level</th>\n",
       "      <th>content_duration</th>\n",
       "      <th>published_timestamp</th>\n",
       "      <th>subject</th>\n",
       "    </tr>\n",
       "  </thead>\n",
       "  <tbody>\n",
       "    <tr>\n",
       "      <th>3673</th>\n",
       "      <td>775618</td>\n",
       "      <td>Learn jQuery from Scratch - Master of JavaScri...</td>\n",
       "      <td>https://www.udemy.com/easy-jquery-for-beginner...</td>\n",
       "      <td>True</td>\n",
       "      <td>100</td>\n",
       "      <td>1040</td>\n",
       "      <td>14</td>\n",
       "      <td>21</td>\n",
       "      <td>All Levels</td>\n",
       "      <td>2.0</td>\n",
       "      <td>2016-06-14T17:36:46Z</td>\n",
       "      <td>Web Development</td>\n",
       "    </tr>\n",
       "    <tr>\n",
       "      <th>3674</th>\n",
       "      <td>1088178</td>\n",
       "      <td>How To Design A WordPress Website With No Codi...</td>\n",
       "      <td>https://www.udemy.com/how-to-make-a-wordpress-...</td>\n",
       "      <td>True</td>\n",
       "      <td>25</td>\n",
       "      <td>306</td>\n",
       "      <td>3</td>\n",
       "      <td>42</td>\n",
       "      <td>Beginner Level</td>\n",
       "      <td>3.5</td>\n",
       "      <td>2017-03-10T22:24:30Z</td>\n",
       "      <td>Web Development</td>\n",
       "    </tr>\n",
       "    <tr>\n",
       "      <th>3675</th>\n",
       "      <td>635248</td>\n",
       "      <td>Learn and Build using Polymer</td>\n",
       "      <td>https://www.udemy.com/learn-and-build-using-po...</td>\n",
       "      <td>True</td>\n",
       "      <td>40</td>\n",
       "      <td>513</td>\n",
       "      <td>169</td>\n",
       "      <td>48</td>\n",
       "      <td>All Levels</td>\n",
       "      <td>3.5</td>\n",
       "      <td>2015-12-30T16:41:42Z</td>\n",
       "      <td>Web Development</td>\n",
       "    </tr>\n",
       "    <tr>\n",
       "      <th>3676</th>\n",
       "      <td>905096</td>\n",
       "      <td>CSS Animations: Create Amazing Effects on Your...</td>\n",
       "      <td>https://www.udemy.com/css-animations-create-am...</td>\n",
       "      <td>True</td>\n",
       "      <td>50</td>\n",
       "      <td>300</td>\n",
       "      <td>31</td>\n",
       "      <td>38</td>\n",
       "      <td>All Levels</td>\n",
       "      <td>3.0</td>\n",
       "      <td>2016-08-11T19:06:15Z</td>\n",
       "      <td>Web Development</td>\n",
       "    </tr>\n",
       "    <tr>\n",
       "      <th>3677</th>\n",
       "      <td>297602</td>\n",
       "      <td>Using MODX CMS to Build Websites: A Beginner's...</td>\n",
       "      <td>https://www.udemy.com/using-modx-cms-to-build-...</td>\n",
       "      <td>True</td>\n",
       "      <td>45</td>\n",
       "      <td>901</td>\n",
       "      <td>36</td>\n",
       "      <td>20</td>\n",
       "      <td>Beginner Level</td>\n",
       "      <td>2.0</td>\n",
       "      <td>2014-09-28T19:51:11Z</td>\n",
       "      <td>Web Development</td>\n",
       "    </tr>\n",
       "  </tbody>\n",
       "</table>\n",
       "</div>"
      ],
      "text/plain": [
       "      course_id                                       course_title  \\\n",
       "3673     775618  Learn jQuery from Scratch - Master of JavaScri...   \n",
       "3674    1088178  How To Design A WordPress Website With No Codi...   \n",
       "3675     635248                      Learn and Build using Polymer   \n",
       "3676     905096  CSS Animations: Create Amazing Effects on Your...   \n",
       "3677     297602  Using MODX CMS to Build Websites: A Beginner's...   \n",
       "\n",
       "                                                    url  is_paid  price  \\\n",
       "3673  https://www.udemy.com/easy-jquery-for-beginner...     True    100   \n",
       "3674  https://www.udemy.com/how-to-make-a-wordpress-...     True     25   \n",
       "3675  https://www.udemy.com/learn-and-build-using-po...     True     40   \n",
       "3676  https://www.udemy.com/css-animations-create-am...     True     50   \n",
       "3677  https://www.udemy.com/using-modx-cms-to-build-...     True     45   \n",
       "\n",
       "      num_subscribers  num_reviews  num_lectures           level  \\\n",
       "3673             1040           14            21      All Levels   \n",
       "3674              306            3            42  Beginner Level   \n",
       "3675              513          169            48      All Levels   \n",
       "3676              300           31            38      All Levels   \n",
       "3677              901           36            20  Beginner Level   \n",
       "\n",
       "      content_duration   published_timestamp          subject  \n",
       "3673               2.0  2016-06-14T17:36:46Z  Web Development  \n",
       "3674               3.5  2017-03-10T22:24:30Z  Web Development  \n",
       "3675               3.5  2015-12-30T16:41:42Z  Web Development  \n",
       "3676               3.0  2016-08-11T19:06:15Z  Web Development  \n",
       "3677               2.0  2014-09-28T19:51:11Z  Web Development  "
      ]
     },
     "execution_count": 5,
     "metadata": {},
     "output_type": "execute_result"
    }
   ],
   "source": [
    "data.tail(n=5)"
   ]
  },
  {
   "cell_type": "markdown",
   "id": "113361b0",
   "metadata": {
    "papermill": {
     "duration": 0.012076,
     "end_time": "2024-10-05T11:38:18.626654",
     "exception": false,
     "start_time": "2024-10-05T11:38:18.614578",
     "status": "completed"
    },
    "tags": []
   },
   "source": [
    "# cleansing data"
   ]
  },
  {
   "cell_type": "markdown",
   "id": "efbddff6",
   "metadata": {
    "papermill": {
     "duration": 0.011394,
     "end_time": "2024-10-05T11:38:18.650148",
     "exception": false,
     "start_time": "2024-10-05T11:38:18.638754",
     "status": "completed"
    },
    "tags": []
   },
   "source": [
    "**remove Duplicated rows if exist**"
   ]
  },
  {
   "cell_type": "code",
   "execution_count": 6,
   "id": "5f7dee11",
   "metadata": {
    "execution": {
     "iopub.execute_input": "2024-10-05T11:38:18.676425Z",
     "iopub.status.busy": "2024-10-05T11:38:18.675827Z",
     "iopub.status.idle": "2024-10-05T11:38:18.699624Z",
     "shell.execute_reply": "2024-10-05T11:38:18.698350Z"
    },
    "papermill": {
     "duration": 0.040234,
     "end_time": "2024-10-05T11:38:18.702249",
     "exception": false,
     "start_time": "2024-10-05T11:38:18.662015",
     "status": "completed"
    },
    "tags": []
   },
   "outputs": [
    {
     "data": {
      "text/plain": [
       "6"
      ]
     },
     "execution_count": 6,
     "metadata": {},
     "output_type": "execute_result"
    }
   ],
   "source": [
    "data.duplicated().sum() # num of duplicated rows"
   ]
  },
  {
   "cell_type": "code",
   "execution_count": 7,
   "id": "b1fee396",
   "metadata": {
    "execution": {
     "iopub.execute_input": "2024-10-05T11:38:18.729181Z",
     "iopub.status.busy": "2024-10-05T11:38:18.728079Z",
     "iopub.status.idle": "2024-10-05T11:38:18.763077Z",
     "shell.execute_reply": "2024-10-05T11:38:18.761725Z"
    },
    "papermill": {
     "duration": 0.051861,
     "end_time": "2024-10-05T11:38:18.766048",
     "exception": false,
     "start_time": "2024-10-05T11:38:18.714187",
     "status": "completed"
    },
    "tags": []
   },
   "outputs": [
    {
     "data": {
      "text/html": [
       "<div>\n",
       "<style scoped>\n",
       "    .dataframe tbody tr th:only-of-type {\n",
       "        vertical-align: middle;\n",
       "    }\n",
       "\n",
       "    .dataframe tbody tr th {\n",
       "        vertical-align: top;\n",
       "    }\n",
       "\n",
       "    .dataframe thead th {\n",
       "        text-align: right;\n",
       "    }\n",
       "</style>\n",
       "<table border=\"1\" class=\"dataframe\">\n",
       "  <thead>\n",
       "    <tr style=\"text-align: right;\">\n",
       "      <th></th>\n",
       "      <th>course_id</th>\n",
       "      <th>course_title</th>\n",
       "      <th>url</th>\n",
       "      <th>is_paid</th>\n",
       "      <th>price</th>\n",
       "      <th>num_subscribers</th>\n",
       "      <th>num_reviews</th>\n",
       "      <th>num_lectures</th>\n",
       "      <th>level</th>\n",
       "      <th>content_duration</th>\n",
       "      <th>published_timestamp</th>\n",
       "      <th>subject</th>\n",
       "    </tr>\n",
       "  </thead>\n",
       "  <tbody>\n",
       "    <tr>\n",
       "      <th>787</th>\n",
       "      <td>837322</td>\n",
       "      <td>Essentials of money value: Get a financial Life !</td>\n",
       "      <td>https://www.udemy.com/essentials-of-money-value/</td>\n",
       "      <td>True</td>\n",
       "      <td>20</td>\n",
       "      <td>0</td>\n",
       "      <td>0</td>\n",
       "      <td>20</td>\n",
       "      <td>All Levels</td>\n",
       "      <td>0.616667</td>\n",
       "      <td>2016-05-16T18:28:30Z</td>\n",
       "      <td>Business Finance</td>\n",
       "    </tr>\n",
       "    <tr>\n",
       "      <th>788</th>\n",
       "      <td>1157298</td>\n",
       "      <td>Introduction to Forex Trading Business For Beg...</td>\n",
       "      <td>https://www.udemy.com/introduction-to-forex-tr...</td>\n",
       "      <td>True</td>\n",
       "      <td>20</td>\n",
       "      <td>0</td>\n",
       "      <td>0</td>\n",
       "      <td>27</td>\n",
       "      <td>Beginner Level</td>\n",
       "      <td>1.500000</td>\n",
       "      <td>2017-04-23T16:19:01Z</td>\n",
       "      <td>Business Finance</td>\n",
       "    </tr>\n",
       "    <tr>\n",
       "      <th>894</th>\n",
       "      <td>1035638</td>\n",
       "      <td>Understanding Financial Statements</td>\n",
       "      <td>https://www.udemy.com/understanding-financial-...</td>\n",
       "      <td>True</td>\n",
       "      <td>25</td>\n",
       "      <td>0</td>\n",
       "      <td>0</td>\n",
       "      <td>10</td>\n",
       "      <td>All Levels</td>\n",
       "      <td>1.000000</td>\n",
       "      <td>2016-12-15T14:56:17Z</td>\n",
       "      <td>Business Finance</td>\n",
       "    </tr>\n",
       "    <tr>\n",
       "      <th>1100</th>\n",
       "      <td>1084454</td>\n",
       "      <td>CFA Level 2- Quantitative Methods</td>\n",
       "      <td>https://www.udemy.com/cfa-level-2-quantitative...</td>\n",
       "      <td>True</td>\n",
       "      <td>40</td>\n",
       "      <td>0</td>\n",
       "      <td>0</td>\n",
       "      <td>35</td>\n",
       "      <td>All Levels</td>\n",
       "      <td>5.500000</td>\n",
       "      <td>2017-07-02T14:29:35Z</td>\n",
       "      <td>Business Finance</td>\n",
       "    </tr>\n",
       "    <tr>\n",
       "      <th>1473</th>\n",
       "      <td>185526</td>\n",
       "      <td>MicroStation - Células</td>\n",
       "      <td>https://www.udemy.com/microstation-celulas/</td>\n",
       "      <td>True</td>\n",
       "      <td>20</td>\n",
       "      <td>0</td>\n",
       "      <td>0</td>\n",
       "      <td>9</td>\n",
       "      <td>Beginner Level</td>\n",
       "      <td>0.616667</td>\n",
       "      <td>2014-04-15T21:48:55Z</td>\n",
       "      <td>Graphic Design</td>\n",
       "    </tr>\n",
       "    <tr>\n",
       "      <th>2561</th>\n",
       "      <td>28295</td>\n",
       "      <td>Learn Web Designing &amp; HTML5/CSS3 Essentials in...</td>\n",
       "      <td>https://www.udemy.com/build-beautiful-html5-we...</td>\n",
       "      <td>True</td>\n",
       "      <td>75</td>\n",
       "      <td>43285</td>\n",
       "      <td>525</td>\n",
       "      <td>24</td>\n",
       "      <td>All Levels</td>\n",
       "      <td>4.000000</td>\n",
       "      <td>2013-01-03T00:55:31Z</td>\n",
       "      <td>Web Development</td>\n",
       "    </tr>\n",
       "  </tbody>\n",
       "</table>\n",
       "</div>"
      ],
      "text/plain": [
       "      course_id                                       course_title  \\\n",
       "787      837322  Essentials of money value: Get a financial Life !   \n",
       "788     1157298  Introduction to Forex Trading Business For Beg...   \n",
       "894     1035638                 Understanding Financial Statements   \n",
       "1100    1084454                  CFA Level 2- Quantitative Methods   \n",
       "1473     185526                             MicroStation - Células   \n",
       "2561      28295  Learn Web Designing & HTML5/CSS3 Essentials in...   \n",
       "\n",
       "                                                    url  is_paid  price  \\\n",
       "787    https://www.udemy.com/essentials-of-money-value/     True     20   \n",
       "788   https://www.udemy.com/introduction-to-forex-tr...     True     20   \n",
       "894   https://www.udemy.com/understanding-financial-...     True     25   \n",
       "1100  https://www.udemy.com/cfa-level-2-quantitative...     True     40   \n",
       "1473        https://www.udemy.com/microstation-celulas/     True     20   \n",
       "2561  https://www.udemy.com/build-beautiful-html5-we...     True     75   \n",
       "\n",
       "      num_subscribers  num_reviews  num_lectures           level  \\\n",
       "787                 0            0            20      All Levels   \n",
       "788                 0            0            27  Beginner Level   \n",
       "894                 0            0            10      All Levels   \n",
       "1100                0            0            35      All Levels   \n",
       "1473                0            0             9  Beginner Level   \n",
       "2561            43285          525            24      All Levels   \n",
       "\n",
       "      content_duration   published_timestamp           subject  \n",
       "787           0.616667  2016-05-16T18:28:30Z  Business Finance  \n",
       "788           1.500000  2017-04-23T16:19:01Z  Business Finance  \n",
       "894           1.000000  2016-12-15T14:56:17Z  Business Finance  \n",
       "1100          5.500000  2017-07-02T14:29:35Z  Business Finance  \n",
       "1473          0.616667  2014-04-15T21:48:55Z    Graphic Design  \n",
       "2561          4.000000  2013-01-03T00:55:31Z   Web Development  "
      ]
     },
     "execution_count": 7,
     "metadata": {},
     "output_type": "execute_result"
    }
   ],
   "source": [
    "data[data.duplicated() == True] # duplicated rows"
   ]
  },
  {
   "cell_type": "code",
   "execution_count": 8,
   "id": "ce9071d7",
   "metadata": {
    "execution": {
     "iopub.execute_input": "2024-10-05T11:38:18.794060Z",
     "iopub.status.busy": "2024-10-05T11:38:18.793512Z",
     "iopub.status.idle": "2024-10-05T11:38:18.808254Z",
     "shell.execute_reply": "2024-10-05T11:38:18.806950Z"
    },
    "papermill": {
     "duration": 0.032267,
     "end_time": "2024-10-05T11:38:18.811393",
     "exception": false,
     "start_time": "2024-10-05T11:38:18.779126",
     "status": "completed"
    },
    "tags": []
   },
   "outputs": [],
   "source": [
    "data.drop_duplicates(inplace=True) # remove duplicate"
   ]
  },
  {
   "cell_type": "code",
   "execution_count": 9,
   "id": "8b733d9d",
   "metadata": {
    "execution": {
     "iopub.execute_input": "2024-10-05T11:38:18.838773Z",
     "iopub.status.busy": "2024-10-05T11:38:18.838248Z",
     "iopub.status.idle": "2024-10-05T11:38:18.854808Z",
     "shell.execute_reply": "2024-10-05T11:38:18.853594Z"
    },
    "papermill": {
     "duration": 0.033624,
     "end_time": "2024-10-05T11:38:18.857693",
     "exception": false,
     "start_time": "2024-10-05T11:38:18.824069",
     "status": "completed"
    },
    "tags": []
   },
   "outputs": [
    {
     "data": {
      "text/plain": [
       "0"
      ]
     },
     "execution_count": 9,
     "metadata": {},
     "output_type": "execute_result"
    }
   ],
   "source": [
    "data.duplicated().sum() # rechceck num of duplicated rows"
   ]
  },
  {
   "cell_type": "markdown",
   "id": "5b22da12",
   "metadata": {
    "papermill": {
     "duration": 0.012318,
     "end_time": "2024-10-05T11:38:18.882879",
     "exception": false,
     "start_time": "2024-10-05T11:38:18.870561",
     "status": "completed"
    },
    "tags": []
   },
   "source": [
    "**replace empty rows with appropriate values if exist**"
   ]
  },
  {
   "cell_type": "code",
   "execution_count": 10,
   "id": "c4dd213a",
   "metadata": {
    "execution": {
     "iopub.execute_input": "2024-10-05T11:38:18.910406Z",
     "iopub.status.busy": "2024-10-05T11:38:18.909841Z",
     "iopub.status.idle": "2024-10-05T11:38:18.922956Z",
     "shell.execute_reply": "2024-10-05T11:38:18.921495Z"
    },
    "papermill": {
     "duration": 0.030207,
     "end_time": "2024-10-05T11:38:18.925653",
     "exception": false,
     "start_time": "2024-10-05T11:38:18.895446",
     "status": "completed"
    },
    "tags": []
   },
   "outputs": [
    {
     "data": {
      "text/plain": [
       "0"
      ]
     },
     "execution_count": 10,
     "metadata": {},
     "output_type": "execute_result"
    }
   ],
   "source": [
    "data.isna().any().sum()"
   ]
  },
  {
   "cell_type": "markdown",
   "id": "cc63b76a",
   "metadata": {
    "papermill": {
     "duration": 0.012226,
     "end_time": "2024-10-05T11:38:18.950762",
     "exception": false,
     "start_time": "2024-10-05T11:38:18.938536",
     "status": "completed"
    },
    "tags": []
   },
   "source": [
    "**Check Datatype**"
   ]
  },
  {
   "cell_type": "code",
   "execution_count": 11,
   "id": "17a663e0",
   "metadata": {
    "execution": {
     "iopub.execute_input": "2024-10-05T11:38:18.979533Z",
     "iopub.status.busy": "2024-10-05T11:38:18.978185Z",
     "iopub.status.idle": "2024-10-05T11:38:18.989003Z",
     "shell.execute_reply": "2024-10-05T11:38:18.987720Z"
    },
    "papermill": {
     "duration": 0.028188,
     "end_time": "2024-10-05T11:38:18.991777",
     "exception": false,
     "start_time": "2024-10-05T11:38:18.963589",
     "status": "completed"
    },
    "tags": []
   },
   "outputs": [
    {
     "data": {
      "text/plain": [
       "course_id                int64\n",
       "course_title            object\n",
       "url                     object\n",
       "is_paid                   bool\n",
       "price                    int64\n",
       "num_subscribers          int64\n",
       "num_reviews              int64\n",
       "num_lectures             int64\n",
       "level                   object\n",
       "content_duration       float64\n",
       "published_timestamp     object\n",
       "subject                 object\n",
       "dtype: object"
      ]
     },
     "execution_count": 11,
     "metadata": {},
     "output_type": "execute_result"
    }
   ],
   "source": [
    "data.dtypes # checking datatype"
   ]
  },
  {
   "cell_type": "code",
   "execution_count": 12,
   "id": "50c82d9d",
   "metadata": {
    "execution": {
     "iopub.execute_input": "2024-10-05T11:38:19.020417Z",
     "iopub.status.busy": "2024-10-05T11:38:19.019851Z",
     "iopub.status.idle": "2024-10-05T11:38:19.057037Z",
     "shell.execute_reply": "2024-10-05T11:38:19.055711Z"
    },
    "papermill": {
     "duration": 0.055131,
     "end_time": "2024-10-05T11:38:19.060066",
     "exception": false,
     "start_time": "2024-10-05T11:38:19.004935",
     "status": "completed"
    },
    "tags": []
   },
   "outputs": [
    {
     "data": {
      "text/plain": [
       "course_id                            int64\n",
       "course_title                        object\n",
       "url                                 object\n",
       "is_paid                               bool\n",
       "price                                int64\n",
       "num_subscribers                      int64\n",
       "num_reviews                          int64\n",
       "num_lectures                         int64\n",
       "level                               object\n",
       "content_duration                   float64\n",
       "published_timestamp    datetime64[ns, UTC]\n",
       "subject                             object\n",
       "dtype: object"
      ]
     },
     "execution_count": 12,
     "metadata": {},
     "output_type": "execute_result"
    }
   ],
   "source": [
    "# recorrect all datatypes\n",
    "\n",
    "data[\"course_id\"] = pd.to_numeric(arg=data[\"course_id\"],errors=\"coerce\")\n",
    "data[\"course_title\"].astype(dtype=\"str\",errors=\"ignore\")\n",
    "data[\"url\"].astype(dtype=\"str\",errors=\"ignore\")\n",
    "data[\"is_paid\"].astype(dtype=\"bool\",errors=\"ignore\")\n",
    "data[\"price\"] = pd.to_numeric(arg=data[\"price\"],errors=\"coerce\")\n",
    "data[\"num_subscribers\"]= pd.to_numeric(arg=data[\"num_subscribers\"],errors=\"coerce\")\n",
    "data[\"num_reviews\"] = pd.to_numeric(arg=data[\"num_reviews\"],errors=\"coerce\")\n",
    "data[\"num_lectures\"] = pd.to_numeric(arg=data[\"num_lectures\"],errors=\"coerce\")\n",
    "data[\"level\"].astype(dtype=\"str\",errors=\"ignore\")\n",
    "data[\"content_duration\"] = pd.to_numeric(arg=data[\"content_duration\"],errors=\"coerce\")\n",
    "data[\"published_timestamp\"] = pd.to_datetime(arg=data[\"published_timestamp\"],errors=\"coerce\")\n",
    "data[\"subject\"].astype(dtype=\"str\",errors=\"ignore\")\n",
    "\n",
    "data.dtypes # checking datatype"
   ]
  },
  {
   "cell_type": "markdown",
   "id": "0c6ee6c2",
   "metadata": {
    "papermill": {
     "duration": 0.012883,
     "end_time": "2024-10-05T11:38:19.086568",
     "exception": false,
     "start_time": "2024-10-05T11:38:19.073685",
     "status": "completed"
    },
    "tags": []
   },
   "source": [
    "# Is there free courses by udemy / Show number and thier name if exist"
   ]
  },
  {
   "cell_type": "code",
   "execution_count": 13,
   "id": "4c82ca61",
   "metadata": {
    "execution": {
     "iopub.execute_input": "2024-10-05T11:38:19.115958Z",
     "iopub.status.busy": "2024-10-05T11:38:19.114963Z",
     "iopub.status.idle": "2024-10-05T11:38:19.127345Z",
     "shell.execute_reply": "2024-10-05T11:38:19.126095Z"
    },
    "papermill": {
     "duration": 0.030097,
     "end_time": "2024-10-05T11:38:19.130109",
     "exception": false,
     "start_time": "2024-10-05T11:38:19.100012",
     "status": "completed"
    },
    "tags": []
   },
   "outputs": [
    {
     "data": {
      "text/plain": [
       "310"
      ]
     },
     "execution_count": 13,
     "metadata": {},
     "output_type": "execute_result"
    }
   ],
   "source": [
    "freecourses = data[data[\"is_paid\"] != True][\"course_title\"]\n",
    "freecourses.shape[0]"
   ]
  },
  {
   "cell_type": "code",
   "execution_count": 14,
   "id": "8109dbd1",
   "metadata": {
    "execution": {
     "iopub.execute_input": "2024-10-05T11:38:19.159529Z",
     "iopub.status.busy": "2024-10-05T11:38:19.158996Z",
     "iopub.status.idle": "2024-10-05T11:38:19.173735Z",
     "shell.execute_reply": "2024-10-05T11:38:19.172399Z"
    },
    "papermill": {
     "duration": 0.032688,
     "end_time": "2024-10-05T11:38:19.176382",
     "exception": false,
     "start_time": "2024-10-05T11:38:19.143694",
     "status": "completed"
    },
    "tags": []
   },
   "outputs": [
    {
     "data": {
      "text/html": [
       "<div>\n",
       "<style scoped>\n",
       "    .dataframe tbody tr th:only-of-type {\n",
       "        vertical-align: middle;\n",
       "    }\n",
       "\n",
       "    .dataframe tbody tr th {\n",
       "        vertical-align: top;\n",
       "    }\n",
       "\n",
       "    .dataframe thead th {\n",
       "        text-align: right;\n",
       "    }\n",
       "</style>\n",
       "<table border=\"1\" class=\"dataframe\">\n",
       "  <thead>\n",
       "    <tr style=\"text-align: right;\">\n",
       "      <th></th>\n",
       "      <th>course_title</th>\n",
       "    </tr>\n",
       "  </thead>\n",
       "  <tbody>\n",
       "    <tr>\n",
       "      <th>95</th>\n",
       "      <td>Options Trading 101: The Basics</td>\n",
       "    </tr>\n",
       "    <tr>\n",
       "      <th>103</th>\n",
       "      <td>Stock Market Investing for Beginners</td>\n",
       "    </tr>\n",
       "    <tr>\n",
       "      <th>106</th>\n",
       "      <td>Fundamentals of Forex Trading</td>\n",
       "    </tr>\n",
       "    <tr>\n",
       "      <th>108</th>\n",
       "      <td>Website Investing 101 - Buying &amp; Selling Onlin...</td>\n",
       "    </tr>\n",
       "    <tr>\n",
       "      <th>112</th>\n",
       "      <td>Stock Market Foundations</td>\n",
       "    </tr>\n",
       "    <tr>\n",
       "      <th>...</th>\n",
       "      <td>...</td>\n",
       "    </tr>\n",
       "    <tr>\n",
       "      <th>3638</th>\n",
       "      <td>Building a Search Engine in PHP &amp; MySQL</td>\n",
       "    </tr>\n",
       "    <tr>\n",
       "      <th>3643</th>\n",
       "      <td>CSS Image filters - The modern web images colo...</td>\n",
       "    </tr>\n",
       "    <tr>\n",
       "      <th>3651</th>\n",
       "      <td>Drupal 8 Site Building</td>\n",
       "    </tr>\n",
       "    <tr>\n",
       "      <th>3665</th>\n",
       "      <td>Beginner Photoshop to HTML5 and CSS3</td>\n",
       "    </tr>\n",
       "    <tr>\n",
       "      <th>3668</th>\n",
       "      <td>A how to guide in HTML</td>\n",
       "    </tr>\n",
       "  </tbody>\n",
       "</table>\n",
       "<p>310 rows × 1 columns</p>\n",
       "</div>"
      ],
      "text/plain": [
       "                                           course_title\n",
       "95                      Options Trading 101: The Basics\n",
       "103                Stock Market Investing for Beginners\n",
       "106                       Fundamentals of Forex Trading\n",
       "108   Website Investing 101 - Buying & Selling Onlin...\n",
       "112                            Stock Market Foundations\n",
       "...                                                 ...\n",
       "3638            Building a Search Engine in PHP & MySQL\n",
       "3643  CSS Image filters - The modern web images colo...\n",
       "3651                             Drupal 8 Site Building\n",
       "3665               Beginner Photoshop to HTML5 and CSS3\n",
       "3668                             A how to guide in HTML\n",
       "\n",
       "[310 rows x 1 columns]"
      ]
     },
     "execution_count": 14,
     "metadata": {},
     "output_type": "execute_result"
    }
   ],
   "source": [
    "pd.DataFrame(freecourses)"
   ]
  },
  {
   "cell_type": "markdown",
   "id": "b6938876",
   "metadata": {
    "papermill": {
     "duration": 0.013361,
     "end_time": "2024-10-05T11:38:19.203809",
     "exception": false,
     "start_time": "2024-10-05T11:38:19.190448",
     "status": "completed"
    },
    "tags": []
   },
   "source": [
    "# Show numbers and ratio for Free and paid courses"
   ]
  },
  {
   "cell_type": "code",
   "execution_count": 15,
   "id": "c5b82fef",
   "metadata": {
    "execution": {
     "iopub.execute_input": "2024-10-05T11:38:19.233735Z",
     "iopub.status.busy": "2024-10-05T11:38:19.233248Z",
     "iopub.status.idle": "2024-10-05T11:38:19.248979Z",
     "shell.execute_reply": "2024-10-05T11:38:19.247801Z"
    },
    "papermill": {
     "duration": 0.033872,
     "end_time": "2024-10-05T11:38:19.251726",
     "exception": false,
     "start_time": "2024-10-05T11:38:19.217854",
     "status": "completed"
    },
    "tags": []
   },
   "outputs": [
    {
     "data": {
      "text/plain": [
       "is_paid\n",
       "Paid    3362\n",
       "Free     310\n",
       "Name: count, dtype: int64"
      ]
     },
     "execution_count": 15,
     "metadata": {},
     "output_type": "execute_result"
    }
   ],
   "source": [
    "name = data[\"is_paid\"].replace(True,\"Paid\").replace(False,\"Free\")\n",
    "name.value_counts()"
   ]
  },
  {
   "cell_type": "code",
   "execution_count": 16,
   "id": "022cf313",
   "metadata": {
    "execution": {
     "iopub.execute_input": "2024-10-05T11:38:19.282152Z",
     "iopub.status.busy": "2024-10-05T11:38:19.281408Z",
     "iopub.status.idle": "2024-10-05T11:38:19.293667Z",
     "shell.execute_reply": "2024-10-05T11:38:19.291594Z"
    },
    "papermill": {
     "duration": 0.031012,
     "end_time": "2024-10-05T11:38:19.296869",
     "exception": false,
     "start_time": "2024-10-05T11:38:19.265857",
     "status": "completed"
    },
    "tags": []
   },
   "outputs": [
    {
     "name": "stdout",
     "output_type": "stream",
     "text": [
      "Paid:- 92%\n",
      "Free:- 8%\n"
     ]
    }
   ],
   "source": [
    "ratio = (name.value_counts() / data.shape[0])\n",
    "\n",
    "ratio_item = ratio.index.values\n",
    "\n",
    "for i in range(len(ratio)):\n",
    "    print(ratio_item[i] + \":- \" + format(ratio.iloc[i],\"0.0%\"))\n"
   ]
  },
  {
   "cell_type": "markdown",
   "id": "f00ba260",
   "metadata": {
    "papermill": {
     "duration": 0.013413,
     "end_time": "2024-10-05T11:38:19.324832",
     "exception": false,
     "start_time": "2024-10-05T11:38:19.311419",
     "status": "completed"
    },
    "tags": []
   },
   "source": [
    "# Num of courses per subject"
   ]
  },
  {
   "cell_type": "code",
   "execution_count": 17,
   "id": "700449b0",
   "metadata": {
    "execution": {
     "iopub.execute_input": "2024-10-05T11:38:19.355150Z",
     "iopub.status.busy": "2024-10-05T11:38:19.354609Z",
     "iopub.status.idle": "2024-10-05T11:38:19.372209Z",
     "shell.execute_reply": "2024-10-05T11:38:19.370883Z"
    },
    "papermill": {
     "duration": 0.036266,
     "end_time": "2024-10-05T11:38:19.375151",
     "exception": false,
     "start_time": "2024-10-05T11:38:19.338885",
     "status": "completed"
    },
    "tags": []
   },
   "outputs": [
    {
     "data": {
      "text/plain": [
       "subject\n",
       "Business Finance       1191\n",
       "Graphic Design          602\n",
       "Musical Instruments     680\n",
       "Web Development        1199\n",
       "Name: count, dtype: int64"
      ]
     },
     "execution_count": 17,
     "metadata": {},
     "output_type": "execute_result"
    }
   ],
   "source": [
    "data.groupby(\"subject\")[\"subject\"].value_counts()"
   ]
  },
  {
   "cell_type": "markdown",
   "id": "4ccef4bc",
   "metadata": {
    "papermill": {
     "duration": 0.013704,
     "end_time": "2024-10-05T11:38:19.403290",
     "exception": false,
     "start_time": "2024-10-05T11:38:19.389586",
     "status": "completed"
    },
    "tags": []
   },
   "source": [
    "# Average Subscribe per subject to get trainers interested"
   ]
  },
  {
   "cell_type": "code",
   "execution_count": 18,
   "id": "5f17c14f",
   "metadata": {
    "execution": {
     "iopub.execute_input": "2024-10-05T11:38:19.433858Z",
     "iopub.status.busy": "2024-10-05T11:38:19.433323Z",
     "iopub.status.idle": "2024-10-05T11:38:19.443376Z",
     "shell.execute_reply": "2024-10-05T11:38:19.442073Z"
    },
    "papermill": {
     "duration": 0.02873,
     "end_time": "2024-10-05T11:38:19.446159",
     "exception": false,
     "start_time": "2024-10-05T11:38:19.417429",
     "status": "completed"
    },
    "tags": []
   },
   "outputs": [],
   "source": [
    "def checkoutliers(rowdata:pd.DataFrame , column1:str , column2:int): \n",
    "    Totalperitem  = rowdata.groupby(column1)[column2].sum()\n",
    "    Total = rowdata[column2].sum()\n",
    "\n",
    "    ration_item=  Totalperitem / Total\n",
    "\n",
    "\n",
    "    outlier = list()\n",
    "    for everytiem in ration_item:\n",
    "        bools = everytiem >= 0.25 and everytiem <= 0.75 #quaritle\n",
    "        outlier.append(bools)\n",
    "    \n",
    "    if False in outlier:\n",
    "        print(\"Using median as there outlier \\n\" + str(rowdata.groupby(column1)[column2].median().sort_values(ascending=False)))\n",
    "    else: \n",
    "        print(\"Using mean as there's no outler \\n\" + str(rowdata.groupby(column1)[column2].mean().sort_values(ascending=False)))"
   ]
  },
  {
   "cell_type": "code",
   "execution_count": 19,
   "id": "707fef5b",
   "metadata": {
    "execution": {
     "iopub.execute_input": "2024-10-05T11:38:19.476446Z",
     "iopub.status.busy": "2024-10-05T11:38:19.475897Z",
     "iopub.status.idle": "2024-10-05T11:38:19.496217Z",
     "shell.execute_reply": "2024-10-05T11:38:19.494829Z"
    },
    "papermill": {
     "duration": 0.038904,
     "end_time": "2024-10-05T11:38:19.499273",
     "exception": false,
     "start_time": "2024-10-05T11:38:19.460369",
     "status": "completed"
    },
    "tags": []
   },
   "outputs": [
    {
     "name": "stdout",
     "output_type": "stream",
     "text": [
      "Using median as there outlier \n",
      "subject\n",
      "Web Development        2412.0\n",
      "Business Finance        486.0\n",
      "Graphic Design          385.5\n",
      "Musical Instruments     138.0\n",
      "Name: num_subscribers, dtype: float64\n"
     ]
    }
   ],
   "source": [
    "checkoutliers(data,\"subject\",\"num_subscribers\")"
   ]
  },
  {
   "cell_type": "markdown",
   "id": "9974cba3",
   "metadata": {
    "papermill": {
     "duration": 0.013748,
     "end_time": "2024-10-05T11:38:19.528395",
     "exception": false,
     "start_time": "2024-10-05T11:38:19.514647",
     "status": "completed"
    },
    "tags": []
   },
   "source": [
    "# as Web Development get high subscribers , get number of suscribers on mention subject per year(timestamp) for both paid/free courses"
   ]
  },
  {
   "cell_type": "code",
   "execution_count": 20,
   "id": "db6b3f5f",
   "metadata": {
    "execution": {
     "iopub.execute_input": "2024-10-05T11:38:19.559451Z",
     "iopub.status.busy": "2024-10-05T11:38:19.558861Z",
     "iopub.status.idle": "2024-10-05T11:38:19.574421Z",
     "shell.execute_reply": "2024-10-05T11:38:19.573149Z"
    },
    "papermill": {
     "duration": 0.03554,
     "end_time": "2024-10-05T11:38:19.578234",
     "exception": false,
     "start_time": "2024-10-05T11:38:19.542694",
     "status": "completed"
    },
    "tags": []
   },
   "outputs": [],
   "source": [
    "data[\"Year\"] = data[\"published_timestamp\"].dt.year\n",
    "rowdata = data[(data[\"subject\"] == \"Web Development\")]\n",
    "rowdata[\"is_paid\"] = rowdata[\"is_paid\"].replace(True,\"Paid\").replace(True,\"Free\").astype(\"str\",errors=\"ignore\")"
   ]
  },
  {
   "cell_type": "code",
   "execution_count": 21,
   "id": "5c126556",
   "metadata": {
    "execution": {
     "iopub.execute_input": "2024-10-05T11:38:19.609990Z",
     "iopub.status.busy": "2024-10-05T11:38:19.609424Z",
     "iopub.status.idle": "2024-10-05T11:38:19.624680Z",
     "shell.execute_reply": "2024-10-05T11:38:19.623444Z"
    },
    "papermill": {
     "duration": 0.034726,
     "end_time": "2024-10-05T11:38:19.627736",
     "exception": false,
     "start_time": "2024-10-05T11:38:19.593010",
     "status": "completed"
    },
    "tags": []
   },
   "outputs": [
    {
     "data": {
      "text/html": [
       "<div>\n",
       "<style scoped>\n",
       "    .dataframe tbody tr th:only-of-type {\n",
       "        vertical-align: middle;\n",
       "    }\n",
       "\n",
       "    .dataframe tbody tr th {\n",
       "        vertical-align: top;\n",
       "    }\n",
       "\n",
       "    .dataframe thead th {\n",
       "        text-align: right;\n",
       "    }\n",
       "</style>\n",
       "<table border=\"1\" class=\"dataframe\">\n",
       "  <thead>\n",
       "    <tr style=\"text-align: right;\">\n",
       "      <th></th>\n",
       "      <th>num_subscribers</th>\n",
       "    </tr>\n",
       "    <tr>\n",
       "      <th>Year</th>\n",
       "      <th></th>\n",
       "    </tr>\n",
       "  </thead>\n",
       "  <tbody>\n",
       "    <tr>\n",
       "      <th>2015</th>\n",
       "      <td>2430242</td>\n",
       "    </tr>\n",
       "    <tr>\n",
       "      <th>2016</th>\n",
       "      <td>2161662</td>\n",
       "    </tr>\n",
       "    <tr>\n",
       "      <th>2013</th>\n",
       "      <td>1168132</td>\n",
       "    </tr>\n",
       "    <tr>\n",
       "      <th>2014</th>\n",
       "      <td>1105049</td>\n",
       "    </tr>\n",
       "    <tr>\n",
       "      <th>2017</th>\n",
       "      <td>635739</td>\n",
       "    </tr>\n",
       "    <tr>\n",
       "      <th>2012</th>\n",
       "      <td>317435</td>\n",
       "    </tr>\n",
       "    <tr>\n",
       "      <th>2011</th>\n",
       "      <td>119028</td>\n",
       "    </tr>\n",
       "  </tbody>\n",
       "</table>\n",
       "</div>"
      ],
      "text/plain": [
       "      num_subscribers\n",
       "Year                 \n",
       "2015          2430242\n",
       "2016          2161662\n",
       "2013          1168132\n",
       "2014          1105049\n",
       "2017           635739\n",
       "2012           317435\n",
       "2011           119028"
      ]
     },
     "execution_count": 21,
     "metadata": {},
     "output_type": "execute_result"
    }
   ],
   "source": [
    "pd.DataFrame(rowdata.groupby(\"Year\")[\"num_subscribers\"].sum().sort_values(ascending=False)) # per year"
   ]
  },
  {
   "cell_type": "code",
   "execution_count": 22,
   "id": "796db72b",
   "metadata": {
    "execution": {
     "iopub.execute_input": "2024-10-05T11:38:19.660001Z",
     "iopub.status.busy": "2024-10-05T11:38:19.658745Z",
     "iopub.status.idle": "2024-10-05T11:38:19.677025Z",
     "shell.execute_reply": "2024-10-05T11:38:19.675737Z"
    },
    "papermill": {
     "duration": 0.037712,
     "end_time": "2024-10-05T11:38:19.680212",
     "exception": false,
     "start_time": "2024-10-05T11:38:19.642500",
     "status": "completed"
    },
    "tags": []
   },
   "outputs": [
    {
     "data": {
      "text/html": [
       "<div>\n",
       "<style scoped>\n",
       "    .dataframe tbody tr th:only-of-type {\n",
       "        vertical-align: middle;\n",
       "    }\n",
       "\n",
       "    .dataframe tbody tr th {\n",
       "        vertical-align: top;\n",
       "    }\n",
       "\n",
       "    .dataframe thead th {\n",
       "        text-align: right;\n",
       "    }\n",
       "</style>\n",
       "<table border=\"1\" class=\"dataframe\">\n",
       "  <thead>\n",
       "    <tr style=\"text-align: right;\">\n",
       "      <th></th>\n",
       "      <th></th>\n",
       "      <th>num_subscribers</th>\n",
       "    </tr>\n",
       "    <tr>\n",
       "      <th>Year</th>\n",
       "      <th>is_paid</th>\n",
       "      <th></th>\n",
       "    </tr>\n",
       "  </thead>\n",
       "  <tbody>\n",
       "    <tr>\n",
       "      <th>2015</th>\n",
       "      <th>Paid</th>\n",
       "      <td>1901691</td>\n",
       "    </tr>\n",
       "    <tr>\n",
       "      <th>2016</th>\n",
       "      <th>Paid</th>\n",
       "      <td>1747779</td>\n",
       "    </tr>\n",
       "    <tr>\n",
       "      <th>2013</th>\n",
       "      <th>False</th>\n",
       "      <td>643434</td>\n",
       "    </tr>\n",
       "    <tr>\n",
       "      <th rowspan=\"2\" valign=\"top\">2014</th>\n",
       "      <th>False</th>\n",
       "      <td>573539</td>\n",
       "    </tr>\n",
       "    <tr>\n",
       "      <th>Paid</th>\n",
       "      <td>531510</td>\n",
       "    </tr>\n",
       "    <tr>\n",
       "      <th>2015</th>\n",
       "      <th>False</th>\n",
       "      <td>528551</td>\n",
       "    </tr>\n",
       "    <tr>\n",
       "      <th>2013</th>\n",
       "      <th>Paid</th>\n",
       "      <td>524698</td>\n",
       "    </tr>\n",
       "    <tr>\n",
       "      <th>2017</th>\n",
       "      <th>Paid</th>\n",
       "      <td>485515</td>\n",
       "    </tr>\n",
       "    <tr>\n",
       "      <th>2016</th>\n",
       "      <th>False</th>\n",
       "      <td>413883</td>\n",
       "    </tr>\n",
       "    <tr>\n",
       "      <th>2012</th>\n",
       "      <th>Paid</th>\n",
       "      <td>244325</td>\n",
       "    </tr>\n",
       "    <tr>\n",
       "      <th>2017</th>\n",
       "      <th>False</th>\n",
       "      <td>150224</td>\n",
       "    </tr>\n",
       "    <tr>\n",
       "      <th>2011</th>\n",
       "      <th>Paid</th>\n",
       "      <td>119028</td>\n",
       "    </tr>\n",
       "    <tr>\n",
       "      <th>2012</th>\n",
       "      <th>False</th>\n",
       "      <td>73110</td>\n",
       "    </tr>\n",
       "  </tbody>\n",
       "</table>\n",
       "</div>"
      ],
      "text/plain": [
       "              num_subscribers\n",
       "Year is_paid                 \n",
       "2015 Paid             1901691\n",
       "2016 Paid             1747779\n",
       "2013 False             643434\n",
       "2014 False             573539\n",
       "     Paid              531510\n",
       "2015 False             528551\n",
       "2013 Paid              524698\n",
       "2017 Paid              485515\n",
       "2016 False             413883\n",
       "2012 Paid              244325\n",
       "2017 False             150224\n",
       "2011 Paid              119028\n",
       "2012 False              73110"
      ]
     },
     "execution_count": 22,
     "metadata": {},
     "output_type": "execute_result"
    }
   ],
   "source": [
    "pd.DataFrame(rowdata.groupby([\"Year\",\"is_paid\"])[\"num_subscribers\"].sum().sort_values(ascending=False)) # per year per paid/free courses"
   ]
  },
  {
   "cell_type": "markdown",
   "id": "7c1078e9",
   "metadata": {
    "papermill": {
     "duration": 0.014864,
     "end_time": "2024-10-05T11:38:19.710115",
     "exception": false,
     "start_time": "2024-10-05T11:38:19.695251",
     "status": "completed"
    },
    "tags": []
   },
   "source": [
    "# Save current Generated Rowdata to csv file to use it in SQL"
   ]
  },
  {
   "cell_type": "code",
   "execution_count": 23,
   "id": "7acda2f9",
   "metadata": {
    "execution": {
     "iopub.execute_input": "2024-10-05T11:38:19.742128Z",
     "iopub.status.busy": "2024-10-05T11:38:19.741566Z",
     "iopub.status.idle": "2024-10-05T11:38:19.747604Z",
     "shell.execute_reply": "2024-10-05T11:38:19.746316Z"
    },
    "papermill": {
     "duration": 0.025458,
     "end_time": "2024-10-05T11:38:19.750611",
     "exception": false,
     "start_time": "2024-10-05T11:38:19.725153",
     "status": "completed"
    },
    "tags": []
   },
   "outputs": [],
   "source": [
    "#data.to_csv(path_or_buf=r\"/kaggle/input/udemy-courses-anallysis/udemy_courses_updated.csv\",header=True, index=False)\n",
    "\n",
    "# will not apply here as kaggle directory is read-only"
   ]
  }
 ],
 "metadata": {
  "kaggle": {
   "accelerator": "none",
   "dataSources": [
    {
     "datasetId": 5820724,
     "sourceId": 9552952,
     "sourceType": "datasetVersion"
    }
   ],
   "dockerImageVersionId": 30786,
   "isGpuEnabled": false,
   "isInternetEnabled": true,
   "language": "python",
   "sourceType": "notebook"
  },
  "kernelspec": {
   "display_name": "Python 3",
   "language": "python",
   "name": "python3"
  },
  "language_info": {
   "codemirror_mode": {
    "name": "ipython",
    "version": 3
   },
   "file_extension": ".py",
   "mimetype": "text/x-python",
   "name": "python",
   "nbconvert_exporter": "python",
   "pygments_lexer": "ipython3",
   "version": "3.10.14"
  },
  "papermill": {
   "default_parameters": {},
   "duration": 6.736732,
   "end_time": "2024-10-05T11:38:20.493788",
   "environment_variables": {},
   "exception": null,
   "input_path": "__notebook__.ipynb",
   "output_path": "__notebook__.ipynb",
   "parameters": {},
   "start_time": "2024-10-05T11:38:13.757056",
   "version": "2.6.0"
  }
 },
 "nbformat": 4,
 "nbformat_minor": 5
}
